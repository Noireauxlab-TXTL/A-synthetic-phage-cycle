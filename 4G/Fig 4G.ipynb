{
 "cells": [
  {
   "cell_type": "code",
   "execution_count": 2,
   "metadata": {},
   "outputs": [
    {
     "data": {
      "image/png": "[encoded data removed]",
      "text/plain": [
       "<Figure size 360x432 with 1 Axes>"
      ]
     },
     "metadata": {
      "needs_background": "light"
     },
     "output_type": "display_data"
    }
   ],
   "source": [
    "import matplotlib.pyplot as plt\n",
    "import numpy as np\n",
    "\n",
    "# Data for the plot\n",
    "conditions = [\"dead\", \"CFW\"]\n",
    "replicates = {\n",
    "    \"dead\": [3.333, 0, 0],\n",
    "    \"CFW\": [96.66666667, 90, 83.33333333]\n",
    "}\n",
    "\n",
    "# Calculate means and standard errors\n",
    "means = [np.mean(replicates[cond]) for cond in conditions]\n",
    "errors = [np.std(replicates[cond], ddof=1) / np.sqrt(len(replicates[cond])) for cond in conditions]\n",
    "\n",
    "# Bar plot settings\n",
    "x = np.arange(len(conditions))\n",
    "bar_width = 0.5\n",
    "colors = ['gray', 'lightgreen']\n",
    "\n",
    "fig, ax = plt.subplots(figsize=(5, 6))\n",
    "\n",
    "# Plot bars and individual data points\n",
    "for i, (cond, mean, err) in enumerate(zip(conditions, means, errors)):\n",
    "    # Bar\n",
    "    ax.bar(x[i], mean, bar_width, label=cond, yerr=err, capsize=5, edgecolor='black', color=colors[i])\n",
    "    # Individual points\n",
    "    jitter = np.linspace(-0.1, 0.1, len(replicates[cond]))\n",
    "    ax.scatter(np.full_like(jitter, x[i]) + jitter, replicates[cond], color='black', zorder=5)\n",
    "\n",
    "# Customize the plot\n",
    "ax.set_xticks(x)\n",
    "#ax.set_yticks(fontsize=20)\n",
    "ax.set_xticklabels([\"SCs + RNAse\", \"SCs - RNAse\"], fontsize=20)\n",
    "ax.set_ylabel(\"NPFU per 100 µl\", fontsize=20)\n",
    "\n",
    "plt.tight_layout()\n",
    "# Optional: save the figure\n",
    "#plt.savefig(\"npfu_comparison.svg\", format='svg')\n",
    "plt.show()\n"
   ]
  },
  {
   "cell_type": "code",
   "execution_count": null,
   "metadata": {},
   "outputs": [],
   "source": []
  }
 ],
 "metadata": {
  "kernelspec": {
   "display_name": "Python 3",
   "language": "python",
   "name": "python3"
  },
  "language_info": {
   "codemirror_mode": {
    "name": "ipython",
    "version": 3
   },
   "file_extension": ".py",
   "mimetype": "text/x-python",
   "name": "python",
   "nbconvert_exporter": "python",
   "pygments_lexer": "ipython3",
   "version": "3.7.7"
  }
 },
 "nbformat": 4,
 "nbformat_minor": 4
}
