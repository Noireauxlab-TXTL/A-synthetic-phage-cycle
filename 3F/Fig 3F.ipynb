{
 "cells": [
  {
   "cell_type": "code",
   "execution_count": 2,
   "metadata": {},
   "outputs": [
    {
     "name": "stdout",
     "output_type": "stream",
     "text": [
      "[44.58237026647799, 66.89612027758182, 36.5751229727596, 1.2830520354387729, 0.0, 0.0]\n",
      "[41.86746987951807 51.307189542483655 39.03508771929825 46.11973392461197]\n"
     ]
    },
    {
     "data": {
      "image/png": "[encoded data removed]",
      "text/plain": [
       "<Figure size 576x432 with 1 Axes>"
      ]
     },
     "metadata": {
      "needs_background": "light"
     },
     "output_type": "display_data"
    }
   ],
   "source": [
    "import pandas as pd\n",
    "import numpy as np\n",
    "import matplotlib.pyplot as plt\n",
    "\n",
    "# Load the data from the Excel file\n",
    "file_path = 'serial-dil-count.xlsx'\n",
    "gfp_data = pd.read_excel(file_path, sheet_name='gfp', header=None)\n",
    "mc_data = pd.read_excel(file_path, sheet_name='mc', header=None)\n",
    "\n",
    "# Set phage amounts corresponding to each sample\n",
    "phage_counts = [10000000, 1000000, 100000, 10000, 1000, 100]  # for samples 1 to 6\n",
    "\n",
    "# Initialize lists to store mean and std values for ratios and MOI\n",
    "mean_ratios = []\n",
    "std_ratios = []\n",
    "mean_mois = []\n",
    "std_mois = []\n",
    "RATIOS=[]\n",
    "# Process each sample (s1 to s6, corresponding to columns)\n",
    "for sample in range(6):\n",
    "    # Extract total vesicle counts and infected vesicle counts for each replicate\n",
    "    total_vesicles = gfp_data.iloc[1, sample*4:(sample+1)*4].values\n",
    "    #print(total_vesicles)\n",
    "    infected_vesicles = mc_data.iloc[1, sample*4:(sample+1)*4].values\n",
    "\n",
    "    # Calculate ratio of infected vesicles for each replicate\n",
    "    ratios = (infected_vesicles / total_vesicles) * 100  # convert to percentage\n",
    "    #print(ratios)\n",
    "\n",
    "    # Calculate MOI for each replicate\n",
    "    mois = phage_counts[sample] / (total_vesicles * 12)\n",
    "\n",
    "    # Store mean and std for ratios and MOI\n",
    "    mean_ratios.append(np.mean(ratios))\n",
    "    std_ratios.append(np.std(ratios))\n",
    "    mean_mois.append(np.mean(mois))\n",
    "    std_mois.append(np.std(mois))\n",
    "    RATIOS.append(ratios)\n",
    "\n",
    "    \n",
    "print(mean_ratios)\n",
    "lal=len(mean_ratios)\n",
    "mean_ratios2=[mean_ratios[-i] for i in range(1, len(mean_ratios)+1)]\n",
    "#print(mean_ratios[-0])\n",
    "#print(mean_ratios2)\n",
    "std_ratios2=[std_ratios[-i] for i in range(1, len(std_ratios)+1)]\n",
    "\n",
    "\n",
    "#print(RATIOS[0])\n",
    "X=[]\n",
    "Y=[]\n",
    "width = 0.9\n",
    "\n",
    "for i in range(len(phage_counts)):\n",
    "    X.append([i-0.2, i-0.1, i+0.1, i+0.2])\n",
    "    Y.append(i)\n",
    "\n",
    "Y= np.array(Y)\n",
    "X = np.array(X)\n",
    "\n",
    "R = np.array(RATIOS)\n",
    "print(R[0])\n",
    "R2=np.array([R[-k] for k in range(1, len(R)+1)])\n",
    "\n",
    "\n",
    "#print(int(mean_mois[k]) for k in mean_mois)\n",
    "\n",
    "#Transform MOI values into labels\n",
    "mois=['{:.2f}'.format(x) for x in mean_mois]\n",
    "MOI= ['0.05', '0.2', '3', '30', '300', '3000']\n",
    "# Plotting\n",
    "fig, ax = plt.subplots(figsize=(8, 6))\n",
    "\n",
    "# Define positions for bars and scatter points\n",
    "x_positions = np.arange(len(phage_counts))\n",
    "\n",
    "# Create bar plot for the means with standard deviation error bars\n",
    "#plt.bar(x_positions, mean_ratios, yerr=std_ratios, capsize=5, alpha=0.6, label='Mean ± SD', color='red')\n",
    "rects1 = ax.bar(x_positions, mean_ratios2, width, yerr=std_ratios2, color= 'darkred', alpha=0.8, capsize = 3, edgecolor='0')\n",
    "#rects1 = ax.bar(x - width/2, MEAN_l, width, yerr = STD_l, label=condition[0], color= color, alpha=0.8, capsize = 3, edgecolor='0')\n",
    "\n",
    "#Add the individual points\n",
    "for i in range(len(phage_counts)):\n",
    "            ax.scatter(X[i], R2[i], color='red', zorder=2, marker =\"o\", s=40, alpha =1, facecolors='darkslategray', edgecolors='0')\n",
    "\n",
    "\n",
    "\n",
    "plt.xlabel('Multiplicity of Infection (MOI)')\n",
    "#plt.xticks(x_positions, mois, rotation=45)\n",
    "plt.xticks(x_positions, MOI)\n",
    "plt.ylabel('Infected Vesicle Ratio (%)')\n",
    "plt.title('Ratio of Infected Vesicles vs MOI')\n",
    "plt.ylim(0, 80)  # y-axis between 0 and 100\n",
    "#plt.savefig('ratio-moi.svg', format='svg') #Save the figure\n",
    "plt.show()"
   ]
  },
  {
   "cell_type": "code",
   "execution_count": null,
   "metadata": {},
   "outputs": [],
   "source": []
  }
 ],
 "metadata": {
  "kernelspec": {
   "display_name": "Python 3",
   "language": "python",
   "name": "python3"
  },
  "language_info": {
   "codemirror_mode": {
    "name": "ipython",
    "version": 3
   },
   "file_extension": ".py",
   "mimetype": "text/x-python",
   "name": "python",
   "nbconvert_exporter": "python",
   "pygments_lexer": "ipython3",
   "version": "3.7.7"
  }
 },
 "nbformat": 4,
 "nbformat_minor": 4
}
